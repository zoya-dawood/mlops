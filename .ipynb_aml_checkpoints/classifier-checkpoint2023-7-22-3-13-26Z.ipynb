{
  "cells": [
    {
      "cell_type": "code",
      "source": [
        " from azureml.core import Workspace, Dataset,Experiment\n",
        "from sklearn.metrics import accuracy_score\n",
        "\n",
        "\n",
        " subscription_id = 'a6632a9d-4bd9-4aa0-99ce-0d47bc549995'\n",
        "resource_group = 'mlops-august'\n",
        "workspace_name = 'intellipat-mlops'\n",
        "\n",
        "workspace = Workspace(subscription_id, resource_group, workspace_name)"
      ],
      "outputs": [],
      "execution_count": 3,
      "metadata": {
        "gather": {
          "logged": 1692669867702
        }
      }
    },
    {
      "cell_type": "code",
      "source": [
        "experiment = Experiment(workspace=workspace,name =\"iris\")\n",
        "dataset = Dataset.get_by_name(workspace=workspace,name=\"Iris\")\n",
        "\n",
        "\n",
        "df=dataset.to_pandas_dataframe()\n",
        "df.head(5)"
      ],
      "outputs": [
        {
          "output_type": "execute_result",
          "execution_count": 6,
          "data": {
            "text/plain": "   Id  SepalLengthCm  SepalWidthCm  PetalLengthCm  PetalWidthCm      Species\n0   1            5.1           3.5            1.4           0.2  Iris-setosa\n1   2            4.9           3.0            1.4           0.2  Iris-setosa\n2   3            4.7           3.2            1.3           0.2  Iris-setosa\n3   4            4.6           3.1            1.5           0.2  Iris-setosa\n4   5            5.0           3.6            1.4           0.2  Iris-setosa",
            "text/html": "<div>\n<style scoped>\n    .dataframe tbody tr th:only-of-type {\n        vertical-align: middle;\n    }\n\n    .dataframe tbody tr th {\n        vertical-align: top;\n    }\n\n    .dataframe thead th {\n        text-align: right;\n    }\n</style>\n<table border=\"1\" class=\"dataframe\">\n  <thead>\n    <tr style=\"text-align: right;\">\n      <th></th>\n      <th>Id</th>\n      <th>SepalLengthCm</th>\n      <th>SepalWidthCm</th>\n      <th>PetalLengthCm</th>\n      <th>PetalWidthCm</th>\n      <th>Species</th>\n    </tr>\n  </thead>\n  <tbody>\n    <tr>\n      <th>0</th>\n      <td>1</td>\n      <td>5.1</td>\n      <td>3.5</td>\n      <td>1.4</td>\n      <td>0.2</td>\n      <td>Iris-setosa</td>\n    </tr>\n    <tr>\n      <th>1</th>\n      <td>2</td>\n      <td>4.9</td>\n      <td>3.0</td>\n      <td>1.4</td>\n      <td>0.2</td>\n      <td>Iris-setosa</td>\n    </tr>\n    <tr>\n      <th>2</th>\n      <td>3</td>\n      <td>4.7</td>\n      <td>3.2</td>\n      <td>1.3</td>\n      <td>0.2</td>\n      <td>Iris-setosa</td>\n    </tr>\n    <tr>\n      <th>3</th>\n      <td>4</td>\n      <td>4.6</td>\n      <td>3.1</td>\n      <td>1.5</td>\n      <td>0.2</td>\n      <td>Iris-setosa</td>\n    </tr>\n    <tr>\n      <th>4</th>\n      <td>5</td>\n      <td>5.0</td>\n      <td>3.6</td>\n      <td>1.4</td>\n      <td>0.2</td>\n      <td>Iris-setosa</td>\n    </tr>\n  </tbody>\n</table>\n</div>"
          },
          "metadata": {}
        }
      ],
      "execution_count": 6,
      "metadata": {
        "jupyter": {
          "source_hidden": false,
          "outputs_hidden": false
        },
        "nteract": {
          "transient": {
            "deleting": false
          }
        },
        "gather": {
          "logged": 1692669924307
        }
      }
    },
    {
      "cell_type": "code",
      "source": [
        "X = df[['SepalLengthCm','SepalWidthCm',\t'PetalLengthCm','PetalWidthCm']]\n",
        "Y = df[['Species']]\n",
        "run = experiment.start_logging()\n",
        "\n",
        "import joblib\n",
        "from sklearn.model_selection import train_test_split\n",
        "x_train,x_test,y_train,y_test=train_test_split(X,Y,test_size=0.20,shuffle=True)\n",
        "\n",
        "from sklearn.tree import DecisionTreeClassifier\n",
        "clf=DecisionTreeClassifier(max_depth=4,criterion=\"gini\")\n",
        "\n",
        "clf.fit(x_train,y_train)\n",
        "\n",
        "y_pred = clf.predict(x_test)\n",
        "\n",
        "accuracy=accuracy_score(y_test,y_pred)\n",
        "print(accuracy)\n",
        "\n",
        "run.log(\"accuracy\",accuracy*100)\n",
        "\n",
        "model_name = \"iris_decision_tree.pkl\"\n",
        "filepath = \"outputs/\"+model_name\n",
        "\n",
        "joblib.dump(value = clf,filename=filepath)\n",
        "run.upload_file(name=model_name,path_or_stream=filepath)\n",
        "run.complete()\n",
        "\n"
      ],
      "outputs": [
        {
          "output_type": "stream",
          "name": "stdout",
          "text": "0.9333333333333333\n"
        }
      ],
      "execution_count": 23,
      "metadata": {
        "jupyter": {
          "source_hidden": false,
          "outputs_hidden": false
        },
        "nteract": {
          "transient": {
            "deleting": false
          }
        },
        "gather": {
          "logged": 1692673711888
        }
      }
    },
    {
      "cell_type": "code",
      "source": [
        "from azureml.core import Model\n",
        "from azureml.core.resource_configuration import ResourceConfiguration"
      ],
      "outputs": [],
      "execution_count": 26,
      "metadata": {
        "jupyter": {
          "source_hidden": false,
          "outputs_hidden": false
        },
        "nteract": {
          "transient": {
            "deleting": false
          }
        },
        "gather": {
          "logged": 1692673837658
        }
      }
    },
    {
      "cell_type": "code",
      "source": [
        "model= Model.register(\n",
        "    workspace=workspace,\n",
        "    model_name=\"iris\",\n",
        "    model_path=filepath,\n",
        "    model_framework= Model.Framework.SCIKITLEARN,\n",
        "    model_framework_version=sklearn.__version__,\n",
        "    description=\"This is a simple desiciontree model\",\n",
        "    resource_configuration=ResourceConfiguration(cpu=1,memory_in_gb=0.5)\n",
        ")\n",
        "\n",
        "print(\"Name:\",model.name)\n",
        "print(\"Version:\",model.version)"
      ],
      "outputs": [
        {
          "output_type": "error",
          "ename": "NameError",
          "evalue": "name 'sklearn' is not defined",
          "traceback": [
            "\u001b[0;31m---------------------------------------------------------------------------\u001b[0m",
            "\u001b[0;31mNameError\u001b[0m                                 Traceback (most recent call last)",
            "Cell \u001b[0;32mIn[27], line 6\u001b[0m\n\u001b[1;32m      1\u001b[0m model\u001b[38;5;241m=\u001b[39m Model\u001b[38;5;241m.\u001b[39mregister(\n\u001b[1;32m      2\u001b[0m     workspace\u001b[38;5;241m=\u001b[39mworkspace,\n\u001b[1;32m      3\u001b[0m     model_name\u001b[38;5;241m=\u001b[39m\u001b[38;5;124m\"\u001b[39m\u001b[38;5;124miris\u001b[39m\u001b[38;5;124m\"\u001b[39m,\n\u001b[1;32m      4\u001b[0m     model_path\u001b[38;5;241m=\u001b[39mfilepath,\n\u001b[1;32m      5\u001b[0m     model_framework\u001b[38;5;241m=\u001b[39m Model\u001b[38;5;241m.\u001b[39mFramework\u001b[38;5;241m.\u001b[39mSCIKITLEARN,\n\u001b[0;32m----> 6\u001b[0m     model_framework_version\u001b[38;5;241m=\u001b[39m\u001b[43msklearn\u001b[49m\u001b[38;5;241m.\u001b[39m__version__,\n\u001b[1;32m      7\u001b[0m     description\u001b[38;5;241m=\u001b[39m\u001b[38;5;124m\"\u001b[39m\u001b[38;5;124mThis is a simple desiciontree model\u001b[39m\u001b[38;5;124m\"\u001b[39m,\n\u001b[1;32m      8\u001b[0m     resource_configuration\u001b[38;5;241m=\u001b[39mResourceConfiguration(cpu\u001b[38;5;241m=\u001b[39m\u001b[38;5;241m1\u001b[39m,memory_in_gb\u001b[38;5;241m=\u001b[39m\u001b[38;5;241m0.5\u001b[39m)\n\u001b[1;32m      9\u001b[0m )\n\u001b[1;32m     11\u001b[0m \u001b[38;5;28mprint\u001b[39m(\u001b[38;5;124m\"\u001b[39m\u001b[38;5;124mName:\u001b[39m\u001b[38;5;124m\"\u001b[39m,model\u001b[38;5;241m.\u001b[39mname)\n\u001b[1;32m     12\u001b[0m \u001b[38;5;28mprint\u001b[39m(\u001b[38;5;124m\"\u001b[39m\u001b[38;5;124mVersion:\u001b[39m\u001b[38;5;124m\"\u001b[39m,model\u001b[38;5;241m.\u001b[39mversion)\n",
            "\u001b[0;31mNameError\u001b[0m: name 'sklearn' is not defined"
          ]
        }
      ],
      "execution_count": 27,
      "metadata": {
        "jupyter": {
          "source_hidden": false,
          "outputs_hidden": false
        },
        "nteract": {
          "transient": {
            "deleting": false
          }
        },
        "gather": {
          "logged": 1692673840310
        }
      }
    },
    {
      "cell_type": "code",
      "source": [],
      "outputs": [],
      "execution_count": null,
      "metadata": {
        "jupyter": {
          "source_hidden": false,
          "outputs_hidden": false
        },
        "nteract": {
          "transient": {
            "deleting": false
          }
        }
      }
    }
  ],
  "metadata": {
    "kernelspec": {
      "name": "python310-sdkv2",
      "language": "python",
      "display_name": "Python 3.10 - SDK v2"
    },
    "language_info": {
      "name": "python",
      "version": "3.10.11",
      "mimetype": "text/x-python",
      "codemirror_mode": {
        "name": "ipython",
        "version": 3
      },
      "pygments_lexer": "ipython3",
      "nbconvert_exporter": "python",
      "file_extension": ".py"
    },
    "microsoft": {
      "ms_spell_check": {
        "ms_spell_check_language": "en"
      },
      "host": {
        "AzureML": {
          "notebookHasBeenCompleted": true
        }
      }
    },
    "kernel_info": {
      "name": "python310-sdkv2"
    },
    "nteract": {
      "version": "nteract-front-end@1.0.0"
    }
  },
  "nbformat": 4,
  "nbformat_minor": 2
}